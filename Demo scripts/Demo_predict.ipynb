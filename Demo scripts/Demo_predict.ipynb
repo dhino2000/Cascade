{
 "cells": [
  {
   "cell_type": "markdown",
   "metadata": {},
   "source": [
    "# **Use CASCADE to infer spiking activity for your own data**\n",
    "---\n",
    "\n",
    "This is a demo script for the inference of spiking activity from calcium imaging data. It is based on the Github repository https://github.com/HelmchenLabSoftware/Cascade. On the repository, you can also find a link to a demo script that runs on the cloud (Colaboratory Notebook) without need to install anything locally.\n",
    "\n",
    "In this notebook:\n",
    "\n",
    "The function **load_neurons_x_time()** loads the input data as a matrix. It can\n",
    "be modified by the user to load npy-files, mat-files or any other standard format.\n",
    "\n",
    "After loading the dF/F data, some example traces are plotted.\n",
    "    \n",
    "The line **spike_prob = cascade.predict( model_name, traces )** performs the\n",
    "predictions. As input, it uses the loaded calcium recordings ('traces') and\n",
    "the pretrained model ('model_name'). To train a new model (usually not necessary), check out the companion Jupyter notebook.    \n",
    "    \n",
    "The output is a matrix with the inferred spike rates.\n",
    "    \n",
    "---"
   ]
  },
  {
   "cell_type": "markdown",
   "metadata": {},
   "source": [
    "## 1. Import python packages\n",
    "\n",
    "Imports standard python packages, and the main CASCADE packages (cascade2p).\n",
    "\n",
    "If the message of a ModuleNotFoundError appears, double check if you have selected the correct kernel with the environment (in task bar above: Kernel -> Change Kernel -> Cascade)"
   ]
  },
  {
   "cell_type": "code",
   "execution_count": null,
   "metadata": {},
   "outputs": [],
   "source": [
    "import os\n",
    "\n",
    "if 'Demo scripts' in os.getcwd(): os.chdir('..')  # change to main directory\n",
    "print('Current directory: {}'.format( os.getcwd() ))\n",
    "\n",
    "import numpy as np\n",
    "import matplotlib.pyplot as plt\n",
    "import glob\n",
    "import scipy.io as sio\n",
    "import ruamel.yaml as yaml\n",
    "yaml = yaml.YAML(typ='rt')\n",
    "\n",
    "# local folder\n",
    "from cascade2p import cascade\n",
    "from cascade2p.utils import plot_dFF_traces, plot_noise_level_distribution, plot_noise_matched_ground_truth\n",
    "\n",
    "from cascade2p import checks\n",
    "checks.check_packages()\n"
   ]
  },
  {
   "cell_type": "markdown",
   "metadata": {},
   "source": [
    "## 2. Load your own calcium imaging data"
   ]
  },
  {
   "cell_type": "markdown",
   "metadata": {},
   "source": [
    "### Define your own function to load data as 2d array (neurons, time)\n",
    "\n",
    "<font size = 3>The function should return a 2D array (neurons x time) with dF/F values (numeric values, not percent).\n",
    "    \n",
    "<font size = 3>Sometimes data are in a different format (time x neurons) or dF/F values are given in percent. In this case, correct by transposing the data (*traces = traces.T*) or by converting from percent to numeric (*traces = traces / 100*)."
   ]
  },
  {
   "cell_type": "code",
   "execution_count": 2,
   "metadata": {},
   "outputs": [],
   "source": [
    "def load_neurons_x_time(file_path):\n",
    "    \"\"\"Custom method to load data as 2d array with shape (neurons, nr_timepoints)\"\"\"\n",
    "    \n",
    "    if file_path.endswith('.mat'):\n",
    "        traces = sio.loadmat(file_path)['dF_traces']\n",
    "\n",
    "    elif file_path.endswith('.npy'):\n",
    "        traces = np.load(file_path, allow_pickle=True)\n",
    "        # if saved data was a dictionary packed into a numpy array (MATLAB style): unpack\n",
    "        if traces.shape == ():\n",
    "            traces = traces.item()['dF_traces']\n",
    "    else:\n",
    "        raise Exception('This function only supports .mat or .npy files.')\n",
    "    \n",
    "    # do here transposing or percent to numeric calculation if necessary\n",
    "    # traces = traces.T\n",
    "    # traces = traces / 100\n",
    "    \n",
    "    return traces"
   ]
  },
  {
   "cell_type": "markdown",
   "metadata": {},
   "source": [
    "### Verify that the data were loaded correctly\n",
    "\n",
    "Important: modify folder name (*example_file*) and imaging frame rate (*frame_rate*)!"
   ]
  },
  {
   "cell_type": "code",
   "execution_count": null,
   "metadata": {
    "scrolled": false
   },
   "outputs": [],
   "source": [
    "example_file = 'Example_datasets/Allen-Brain-Observatory-Visual-Coding-30Hz/Experiment_552195520_excerpt.mat'\n",
    "\n",
    "traces = load_neurons_x_time( example_file )\n",
    "frame_rate = 30\n",
    "\n",
    "\n",
    "print('Number of neurons in dataset:', traces.shape[0])\n",
    "print('Number of timepoints in dataset:', traces.shape[1])\n",
    "\n",
    "# interactive plotting\n",
    "%matplotlib notebook\n",
    "\n",
    "noise_levels = plot_noise_level_distribution(traces,frame_rate)\n",
    "\n",
    "plt.rcParams['figure.figsize'] = (8.0, 8.0)\n",
    "np.random.seed(3452)\n",
    "neuron_indices = np.random.randint(traces.shape[0], size=10)\n",
    "plot_dFF_traces(traces,neuron_indices,frame_rate)"
   ]
  },
  {
   "cell_type": "markdown",
   "metadata": {},
   "source": [
    "## 3. Infer spike rates from calcium data "
   ]
  },
  {
   "cell_type": "markdown",
   "metadata": {},
   "source": [
    "### Get list of available models"
   ]
  },
  {
   "cell_type": "code",
   "execution_count": null,
   "metadata": {},
   "outputs": [],
   "source": [
    "cascade.download_model( 'update_models',verbose = 1)\n",
    "\n",
    "yaml_file = open('Pretrained_models/available_models.yaml')\n",
    "X = yaml.load(yaml_file)\n",
    "list_of_models = list(X.keys())\n",
    "print('\\n List of available models: \\n')\n",
    "for model in list_of_models:\n",
    "    print(model)"
   ]
  },
  {
   "cell_type": "markdown",
   "metadata": {},
   "source": [
    "### Select and download pretrained model"
   ]
  },
  {
   "cell_type": "code",
   "execution_count": null,
   "metadata": {},
   "outputs": [],
   "source": [
    "model_name = 'Global_EXC_30Hz_smoothing100ms'\n",
    "\n",
    "cascade.download_model( model_name,verbose = 1)"
   ]
  },
  {
   "cell_type": "markdown",
   "metadata": {},
   "source": [
    "### Predict spike rates"
   ]
  },
  {
   "cell_type": "code",
   "execution_count": null,
   "metadata": {},
   "outputs": [],
   "source": [
    "spike_prob = cascade.predict( model_name, traces )"
   ]
  },
  {
   "cell_type": "markdown",
   "metadata": {},
   "source": [
    "## 4. Save results to a data file"
   ]
  },
  {
   "cell_type": "code",
   "execution_count": 7,
   "metadata": {},
   "outputs": [],
   "source": [
    "folder = os.path.dirname(example_file)\n",
    "file_name = 'predictions_' + os.path.splitext( os.path.basename(example_file))[0]\n",
    "save_path = os.path.join(folder, file_name)\n",
    "\n",
    "# save as mat file\n",
    "sio.savemat(save_path+'.mat', {'spike_prob':spike_prob})\n",
    "\n",
    "# save as numpy file\n",
    "# np.save(save_path, spike_prob)"
   ]
  },
  {
   "cell_type": "markdown",
   "metadata": {},
   "source": [
    "## 5. Plot the results together with calcium traces"
   ]
  },
  {
   "cell_type": "code",
   "execution_count": null,
   "metadata": {},
   "outputs": [],
   "source": [
    "plt.rcParams['figure.figsize'] = (8.0, 8.0)\n",
    "np.random.seed(3452)\n",
    "neuron_indices = np.random.randint(traces.shape[0], size=10)\n",
    "plot_dFF_traces(traces,neuron_indices,frame_rate,spike_prob)"
   ]
  },
  {
   "cell_type": "markdown",
   "metadata": {},
   "source": [
    "## 6. Plot noise-matched calcium traces from the ground truth"
   ]
  },
  {
   "cell_type": "code",
   "execution_count": null,
   "metadata": {},
   "outputs": [],
   "source": [
    "median_noise = np.round(np.median(noise_levels))\n",
    "nb_traces = 8\n",
    "duration = 26 # seconds\n",
    "plot_noise_matched_ground_truth( model_name, median_noise, frame_rate, nb_traces, duration )"
   ]
  },
  {
   "cell_type": "code",
   "execution_count": null,
   "metadata": {},
   "outputs": [],
   "source": []
  }
 ],
 "metadata": {
  "kernelspec": {
   "display_name": "Cascade",
   "language": "python",
   "name": "cascade"
  },
  "language_info": {
   "codemirror_mode": {
    "name": "ipython",
    "version": 3
   },
   "file_extension": ".py",
   "mimetype": "text/x-python",
   "name": "python",
   "nbconvert_exporter": "python",
   "pygments_lexer": "ipython3",
   "version": "3.6.10"
  }
 },
 "nbformat": 4,
 "nbformat_minor": 2
}
